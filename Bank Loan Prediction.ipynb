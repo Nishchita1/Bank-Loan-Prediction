{
 "cells": [
  {
   "cell_type": "markdown",
   "id": "5203efd5",
   "metadata": {},
   "source": [
    "#### Nishchita Kumari V (1GG18CS027)\n",
    "#### Nithin Kumar B (1GG18CS028)"
   ]
  },
  {
   "cell_type": "markdown",
   "id": "8f736e05",
   "metadata": {},
   "source": [
    "## Importing Libraries"
   ]
  },
  {
   "cell_type": "code",
   "execution_count": 1,
   "id": "f919cfdf",
   "metadata": {},
   "outputs": [],
   "source": [
    "import pandas as pd\n",
    "import numpy as np\n",
    "import matplotlib.pyplot as plt\n",
    "import seaborn as sns\n",
    "%matplotlib inline\n",
    "import warnings\n",
    "warnings.filterwarnings('ignore')"
   ]
  },
  {
   "cell_type": "markdown",
   "id": "7d781178",
   "metadata": {},
   "source": [
    "## Load the Dataset"
   ]
  },
  {
   "cell_type": "code",
   "execution_count": 2,
   "id": "b8304ffe",
   "metadata": {},
   "outputs": [
    {
     "data": {
      "text/html": [
       "<div>\n",
       "<style scoped>\n",
       "    .dataframe tbody tr th:only-of-type {\n",
       "        vertical-align: middle;\n",
       "    }\n",
       "\n",
       "    .dataframe tbody tr th {\n",
       "        vertical-align: top;\n",
       "    }\n",
       "\n",
       "    .dataframe thead th {\n",
       "        text-align: right;\n",
       "    }\n",
       "</style>\n",
       "<table border=\"1\" class=\"dataframe\">\n",
       "  <thead>\n",
       "    <tr style=\"text-align: right;\">\n",
       "      <th></th>\n",
       "      <th>Customer ID</th>\n",
       "      <th>Name</th>\n",
       "      <th>Gender</th>\n",
       "      <th>Age</th>\n",
       "      <th>Income (USD)</th>\n",
       "      <th>Income Stability</th>\n",
       "      <th>Profession</th>\n",
       "      <th>Type of Employment</th>\n",
       "      <th>Location</th>\n",
       "      <th>Loan Amount Request (USD)</th>\n",
       "      <th>...</th>\n",
       "      <th>Credit Score</th>\n",
       "      <th>No. of Defaults</th>\n",
       "      <th>Has Active Credit Card</th>\n",
       "      <th>Property ID</th>\n",
       "      <th>Property Age</th>\n",
       "      <th>Property Type</th>\n",
       "      <th>Property Location</th>\n",
       "      <th>Co-Applicant</th>\n",
       "      <th>Property Price</th>\n",
       "      <th>Loan Sanction Amount (USD)</th>\n",
       "    </tr>\n",
       "  </thead>\n",
       "  <tbody>\n",
       "    <tr>\n",
       "      <th>0</th>\n",
       "      <td>C-36995</td>\n",
       "      <td>Frederica Shealy</td>\n",
       "      <td>F</td>\n",
       "      <td>56</td>\n",
       "      <td>1933.05</td>\n",
       "      <td>Low</td>\n",
       "      <td>Working</td>\n",
       "      <td>Sales staff</td>\n",
       "      <td>Semi-Urban</td>\n",
       "      <td>72809.58</td>\n",
       "      <td>...</td>\n",
       "      <td>809.44</td>\n",
       "      <td>0</td>\n",
       "      <td>NaN</td>\n",
       "      <td>746</td>\n",
       "      <td>1933.05</td>\n",
       "      <td>4</td>\n",
       "      <td>Rural</td>\n",
       "      <td>1</td>\n",
       "      <td>119933.46</td>\n",
       "      <td>54607.18</td>\n",
       "    </tr>\n",
       "    <tr>\n",
       "      <th>1</th>\n",
       "      <td>C-33999</td>\n",
       "      <td>America Calderone</td>\n",
       "      <td>M</td>\n",
       "      <td>32</td>\n",
       "      <td>4952.91</td>\n",
       "      <td>Low</td>\n",
       "      <td>Working</td>\n",
       "      <td>NaN</td>\n",
       "      <td>Semi-Urban</td>\n",
       "      <td>46837.47</td>\n",
       "      <td>...</td>\n",
       "      <td>780.40</td>\n",
       "      <td>0</td>\n",
       "      <td>Unpossessed</td>\n",
       "      <td>608</td>\n",
       "      <td>4952.91</td>\n",
       "      <td>2</td>\n",
       "      <td>Rural</td>\n",
       "      <td>1</td>\n",
       "      <td>54791.00</td>\n",
       "      <td>37469.98</td>\n",
       "    </tr>\n",
       "    <tr>\n",
       "      <th>2</th>\n",
       "      <td>C-3770</td>\n",
       "      <td>Rosetta Verne</td>\n",
       "      <td>F</td>\n",
       "      <td>65</td>\n",
       "      <td>988.19</td>\n",
       "      <td>High</td>\n",
       "      <td>Pensioner</td>\n",
       "      <td>NaN</td>\n",
       "      <td>Semi-Urban</td>\n",
       "      <td>45593.04</td>\n",
       "      <td>...</td>\n",
       "      <td>833.15</td>\n",
       "      <td>0</td>\n",
       "      <td>Unpossessed</td>\n",
       "      <td>546</td>\n",
       "      <td>988.19</td>\n",
       "      <td>2</td>\n",
       "      <td>Urban</td>\n",
       "      <td>0</td>\n",
       "      <td>72440.58</td>\n",
       "      <td>36474.43</td>\n",
       "    </tr>\n",
       "    <tr>\n",
       "      <th>3</th>\n",
       "      <td>C-26480</td>\n",
       "      <td>Zoe Chitty</td>\n",
       "      <td>F</td>\n",
       "      <td>65</td>\n",
       "      <td>NaN</td>\n",
       "      <td>High</td>\n",
       "      <td>Pensioner</td>\n",
       "      <td>NaN</td>\n",
       "      <td>Rural</td>\n",
       "      <td>80057.92</td>\n",
       "      <td>...</td>\n",
       "      <td>832.70</td>\n",
       "      <td>1</td>\n",
       "      <td>Unpossessed</td>\n",
       "      <td>890</td>\n",
       "      <td>NaN</td>\n",
       "      <td>2</td>\n",
       "      <td>Semi-Urban</td>\n",
       "      <td>1</td>\n",
       "      <td>121441.51</td>\n",
       "      <td>56040.54</td>\n",
       "    </tr>\n",
       "    <tr>\n",
       "      <th>4</th>\n",
       "      <td>C-23459</td>\n",
       "      <td>Afton Venema</td>\n",
       "      <td>F</td>\n",
       "      <td>31</td>\n",
       "      <td>2614.77</td>\n",
       "      <td>Low</td>\n",
       "      <td>Working</td>\n",
       "      <td>High skill tech staff</td>\n",
       "      <td>Semi-Urban</td>\n",
       "      <td>113858.89</td>\n",
       "      <td>...</td>\n",
       "      <td>745.55</td>\n",
       "      <td>1</td>\n",
       "      <td>Active</td>\n",
       "      <td>715</td>\n",
       "      <td>2614.77</td>\n",
       "      <td>4</td>\n",
       "      <td>Semi-Urban</td>\n",
       "      <td>1</td>\n",
       "      <td>208567.91</td>\n",
       "      <td>74008.28</td>\n",
       "    </tr>\n",
       "  </tbody>\n",
       "</table>\n",
       "<p>5 rows × 24 columns</p>\n",
       "</div>"
      ],
      "text/plain": [
       "  Customer ID               Name Gender  Age  Income (USD) Income Stability  \\\n",
       "0     C-36995   Frederica Shealy      F   56       1933.05              Low   \n",
       "1     C-33999  America Calderone      M   32       4952.91              Low   \n",
       "2      C-3770      Rosetta Verne      F   65        988.19             High   \n",
       "3     C-26480         Zoe Chitty      F   65           NaN             High   \n",
       "4     C-23459       Afton Venema      F   31       2614.77              Low   \n",
       "\n",
       "  Profession     Type of Employment    Location  Loan Amount Request (USD)  \\\n",
       "0    Working            Sales staff  Semi-Urban                   72809.58   \n",
       "1    Working                    NaN  Semi-Urban                   46837.47   \n",
       "2  Pensioner                    NaN  Semi-Urban                   45593.04   \n",
       "3  Pensioner                    NaN       Rural                   80057.92   \n",
       "4    Working  High skill tech staff  Semi-Urban                  113858.89   \n",
       "\n",
       "   ...  Credit Score No. of Defaults Has Active Credit Card  Property ID  \\\n",
       "0  ...        809.44               0                    NaN          746   \n",
       "1  ...        780.40               0            Unpossessed          608   \n",
       "2  ...        833.15               0            Unpossessed          546   \n",
       "3  ...        832.70               1            Unpossessed          890   \n",
       "4  ...        745.55               1                 Active          715   \n",
       "\n",
       "   Property Age  Property Type Property Location  Co-Applicant  \\\n",
       "0       1933.05              4             Rural             1   \n",
       "1       4952.91              2             Rural             1   \n",
       "2        988.19              2             Urban             0   \n",
       "3           NaN              2        Semi-Urban             1   \n",
       "4       2614.77              4        Semi-Urban             1   \n",
       "\n",
       "   Property Price  Loan Sanction Amount (USD)  \n",
       "0       119933.46                    54607.18  \n",
       "1        54791.00                    37469.98  \n",
       "2        72440.58                    36474.43  \n",
       "3       121441.51                    56040.54  \n",
       "4       208567.91                    74008.28  \n",
       "\n",
       "[5 rows x 24 columns]"
      ]
     },
     "execution_count": 2,
     "metadata": {},
     "output_type": "execute_result"
    }
   ],
   "source": [
    "bankloan = pd.read_csv('classified-data.csv')\n",
    "bankloan.head()"
   ]
  },
  {
   "cell_type": "code",
   "execution_count": 3,
   "id": "ae51cd9e",
   "metadata": {},
   "outputs": [
    {
     "name": "stdout",
     "output_type": "stream",
     "text": [
      "<class 'pandas.core.frame.DataFrame'>\n",
      "RangeIndex: 30000 entries, 0 to 29999\n",
      "Data columns (total 24 columns):\n",
      " #   Column                       Non-Null Count  Dtype  \n",
      "---  ------                       --------------  -----  \n",
      " 0   Customer ID                  30000 non-null  object \n",
      " 1   Name                         30000 non-null  object \n",
      " 2   Gender                       29947 non-null  object \n",
      " 3   Age                          30000 non-null  int64  \n",
      " 4   Income (USD)                 25424 non-null  float64\n",
      " 5   Income Stability             28317 non-null  object \n",
      " 6   Profession                   30000 non-null  object \n",
      " 7   Type of Employment           22730 non-null  object \n",
      " 8   Location                     30000 non-null  object \n",
      " 9   Loan Amount Request (USD)    30000 non-null  float64\n",
      " 10  Current Loan Expenses (USD)  29828 non-null  float64\n",
      " 11  Expense Type 1               30000 non-null  object \n",
      " 12  Expense Type 2               30000 non-null  object \n",
      " 13  Dependents                   27507 non-null  float64\n",
      " 14  Credit Score                 28297 non-null  float64\n",
      " 15  No. of Defaults              30000 non-null  int64  \n",
      " 16  Has Active Credit Card       28434 non-null  object \n",
      " 17  Property ID                  30000 non-null  int64  \n",
      " 18  Property Age                 25150 non-null  float64\n",
      " 19  Property Type                30000 non-null  int64  \n",
      " 20  Property Location            29644 non-null  object \n",
      " 21  Co-Applicant                 30000 non-null  int64  \n",
      " 22  Property Price               30000 non-null  float64\n",
      " 23  Loan Sanction Amount (USD)   29660 non-null  float64\n",
      "dtypes: float64(8), int64(5), object(11)\n",
      "memory usage: 5.5+ MB\n"
     ]
    }
   ],
   "source": [
    "bankloan.info()"
   ]
  },
  {
   "cell_type": "code",
   "execution_count": 4,
   "id": "832424af",
   "metadata": {},
   "outputs": [
    {
     "data": {
      "text/html": [
       "<div>\n",
       "<style scoped>\n",
       "    .dataframe tbody tr th:only-of-type {\n",
       "        vertical-align: middle;\n",
       "    }\n",
       "\n",
       "    .dataframe tbody tr th {\n",
       "        vertical-align: top;\n",
       "    }\n",
       "\n",
       "    .dataframe thead th {\n",
       "        text-align: right;\n",
       "    }\n",
       "</style>\n",
       "<table border=\"1\" class=\"dataframe\">\n",
       "  <thead>\n",
       "    <tr style=\"text-align: right;\">\n",
       "      <th></th>\n",
       "      <th>Age</th>\n",
       "      <th>Income (USD)</th>\n",
       "      <th>Loan Amount Request (USD)</th>\n",
       "      <th>Current Loan Expenses (USD)</th>\n",
       "      <th>Dependents</th>\n",
       "      <th>Credit Score</th>\n",
       "      <th>No. of Defaults</th>\n",
       "      <th>Property ID</th>\n",
       "      <th>Property Age</th>\n",
       "      <th>Property Type</th>\n",
       "      <th>Co-Applicant</th>\n",
       "      <th>Property Price</th>\n",
       "      <th>Loan Sanction Amount (USD)</th>\n",
       "    </tr>\n",
       "  </thead>\n",
       "  <tbody>\n",
       "    <tr>\n",
       "      <th>count</th>\n",
       "      <td>30000.000000</td>\n",
       "      <td>2.542400e+04</td>\n",
       "      <td>30000.000000</td>\n",
       "      <td>29828.000000</td>\n",
       "      <td>27507.000000</td>\n",
       "      <td>28297.000000</td>\n",
       "      <td>30000.000000</td>\n",
       "      <td>30000.000000</td>\n",
       "      <td>2.515000e+04</td>\n",
       "      <td>30000.000000</td>\n",
       "      <td>30000.000000</td>\n",
       "      <td>3.000000e+04</td>\n",
       "      <td>29660.000000</td>\n",
       "    </tr>\n",
       "    <tr>\n",
       "      <th>mean</th>\n",
       "      <td>40.092300</td>\n",
       "      <td>2.630574e+03</td>\n",
       "      <td>88826.333855</td>\n",
       "      <td>400.936876</td>\n",
       "      <td>2.253027</td>\n",
       "      <td>739.885381</td>\n",
       "      <td>0.193933</td>\n",
       "      <td>501.934700</td>\n",
       "      <td>2.631119e+03</td>\n",
       "      <td>2.460067</td>\n",
       "      <td>-4.743867</td>\n",
       "      <td>1.317597e+05</td>\n",
       "      <td>47649.342208</td>\n",
       "    </tr>\n",
       "    <tr>\n",
       "      <th>std</th>\n",
       "      <td>16.045129</td>\n",
       "      <td>1.126272e+04</td>\n",
       "      <td>59536.949605</td>\n",
       "      <td>242.545375</td>\n",
       "      <td>0.951162</td>\n",
       "      <td>72.163846</td>\n",
       "      <td>0.395384</td>\n",
       "      <td>288.158086</td>\n",
       "      <td>1.132268e+04</td>\n",
       "      <td>1.118562</td>\n",
       "      <td>74.614593</td>\n",
       "      <td>9.354955e+04</td>\n",
       "      <td>48221.146686</td>\n",
       "    </tr>\n",
       "    <tr>\n",
       "      <th>min</th>\n",
       "      <td>18.000000</td>\n",
       "      <td>3.777000e+02</td>\n",
       "      <td>6048.240000</td>\n",
       "      <td>-999.000000</td>\n",
       "      <td>1.000000</td>\n",
       "      <td>580.000000</td>\n",
       "      <td>0.000000</td>\n",
       "      <td>1.000000</td>\n",
       "      <td>3.777000e+02</td>\n",
       "      <td>1.000000</td>\n",
       "      <td>-999.000000</td>\n",
       "      <td>-9.990000e+02</td>\n",
       "      <td>-999.000000</td>\n",
       "    </tr>\n",
       "    <tr>\n",
       "      <th>25%</th>\n",
       "      <td>25.000000</td>\n",
       "      <td>1.650457e+03</td>\n",
       "      <td>41177.755000</td>\n",
       "      <td>247.667500</td>\n",
       "      <td>2.000000</td>\n",
       "      <td>681.880000</td>\n",
       "      <td>0.000000</td>\n",
       "      <td>251.000000</td>\n",
       "      <td>1.650450e+03</td>\n",
       "      <td>1.000000</td>\n",
       "      <td>1.000000</td>\n",
       "      <td>6.057216e+04</td>\n",
       "      <td>0.000000</td>\n",
       "    </tr>\n",
       "    <tr>\n",
       "      <th>50%</th>\n",
       "      <td>40.000000</td>\n",
       "      <td>2.222435e+03</td>\n",
       "      <td>75128.075000</td>\n",
       "      <td>375.205000</td>\n",
       "      <td>2.000000</td>\n",
       "      <td>739.820000</td>\n",
       "      <td>0.000000</td>\n",
       "      <td>504.000000</td>\n",
       "      <td>2.223250e+03</td>\n",
       "      <td>2.000000</td>\n",
       "      <td>1.000000</td>\n",
       "      <td>1.099936e+05</td>\n",
       "      <td>35209.395000</td>\n",
       "    </tr>\n",
       "    <tr>\n",
       "      <th>75%</th>\n",
       "      <td>55.000000</td>\n",
       "      <td>3.090593e+03</td>\n",
       "      <td>119964.605000</td>\n",
       "      <td>521.292500</td>\n",
       "      <td>3.000000</td>\n",
       "      <td>799.120000</td>\n",
       "      <td>0.000000</td>\n",
       "      <td>751.000000</td>\n",
       "      <td>3.091408e+03</td>\n",
       "      <td>3.000000</td>\n",
       "      <td>1.000000</td>\n",
       "      <td>1.788807e+05</td>\n",
       "      <td>74261.250000</td>\n",
       "    </tr>\n",
       "    <tr>\n",
       "      <th>max</th>\n",
       "      <td>65.000000</td>\n",
       "      <td>1.777460e+06</td>\n",
       "      <td>621497.820000</td>\n",
       "      <td>3840.880000</td>\n",
       "      <td>14.000000</td>\n",
       "      <td>896.260000</td>\n",
       "      <td>1.000000</td>\n",
       "      <td>999.000000</td>\n",
       "      <td>1.777460e+06</td>\n",
       "      <td>4.000000</td>\n",
       "      <td>1.000000</td>\n",
       "      <td>1.077967e+06</td>\n",
       "      <td>481907.320000</td>\n",
       "    </tr>\n",
       "  </tbody>\n",
       "</table>\n",
       "</div>"
      ],
      "text/plain": [
       "                Age  Income (USD)  Loan Amount Request (USD)  \\\n",
       "count  30000.000000  2.542400e+04               30000.000000   \n",
       "mean      40.092300  2.630574e+03               88826.333855   \n",
       "std       16.045129  1.126272e+04               59536.949605   \n",
       "min       18.000000  3.777000e+02                6048.240000   \n",
       "25%       25.000000  1.650457e+03               41177.755000   \n",
       "50%       40.000000  2.222435e+03               75128.075000   \n",
       "75%       55.000000  3.090593e+03              119964.605000   \n",
       "max       65.000000  1.777460e+06              621497.820000   \n",
       "\n",
       "       Current Loan Expenses (USD)    Dependents  Credit Score  \\\n",
       "count                 29828.000000  27507.000000  28297.000000   \n",
       "mean                    400.936876      2.253027    739.885381   \n",
       "std                     242.545375      0.951162     72.163846   \n",
       "min                    -999.000000      1.000000    580.000000   \n",
       "25%                     247.667500      2.000000    681.880000   \n",
       "50%                     375.205000      2.000000    739.820000   \n",
       "75%                     521.292500      3.000000    799.120000   \n",
       "max                    3840.880000     14.000000    896.260000   \n",
       "\n",
       "       No. of Defaults   Property ID  Property Age  Property Type  \\\n",
       "count     30000.000000  30000.000000  2.515000e+04   30000.000000   \n",
       "mean          0.193933    501.934700  2.631119e+03       2.460067   \n",
       "std           0.395384    288.158086  1.132268e+04       1.118562   \n",
       "min           0.000000      1.000000  3.777000e+02       1.000000   \n",
       "25%           0.000000    251.000000  1.650450e+03       1.000000   \n",
       "50%           0.000000    504.000000  2.223250e+03       2.000000   \n",
       "75%           0.000000    751.000000  3.091408e+03       3.000000   \n",
       "max           1.000000    999.000000  1.777460e+06       4.000000   \n",
       "\n",
       "       Co-Applicant  Property Price  Loan Sanction Amount (USD)  \n",
       "count  30000.000000    3.000000e+04                29660.000000  \n",
       "mean      -4.743867    1.317597e+05                47649.342208  \n",
       "std       74.614593    9.354955e+04                48221.146686  \n",
       "min     -999.000000   -9.990000e+02                 -999.000000  \n",
       "25%        1.000000    6.057216e+04                    0.000000  \n",
       "50%        1.000000    1.099936e+05                35209.395000  \n",
       "75%        1.000000    1.788807e+05                74261.250000  \n",
       "max        1.000000    1.077967e+06               481907.320000  "
      ]
     },
     "execution_count": 4,
     "metadata": {},
     "output_type": "execute_result"
    }
   ],
   "source": [
    "bankloan.describe()"
   ]
  },
  {
   "cell_type": "markdown",
   "id": "a7f9dff3",
   "metadata": {},
   "source": [
    "## Exploratory Data Analysis"
   ]
  },
  {
   "cell_type": "code",
   "execution_count": 5,
   "id": "af58de98",
   "metadata": {},
   "outputs": [
    {
     "data": {
      "text/plain": [
       "<AxesSubplot:>"
      ]
     },
     "execution_count": 5,
     "metadata": {},
     "output_type": "execute_result"
    },
    {
     "data": {
      "image/png": "[encoded data removed]",
      "text/plain": [
       "<Figure size 1008x504 with 2 Axes>"
      ]
     },
     "metadata": {
      "needs_background": "light"
     },
     "output_type": "display_data"
    }
   ],
   "source": [
    "plt.figure(figsize=(14,7))\n",
    "sns.heatmap(bankloan.corr(),annot=True,)"
   ]
  },
  {
   "cell_type": "markdown",
   "id": "d14a53ca",
   "metadata": {},
   "source": [
    "##### Explaination for the above graph: \n",
    "The darker shades of the chart represent higher values than the lighter shade.\n",
    "As we can see in the above graph, the most correlated values are Income stability and Credit score.\n",
    "\n"
   ]
  },
  {
   "cell_type": "code",
   "execution_count": 6,
   "id": "11c40969",
   "metadata": {},
   "outputs": [
    {
     "data": {
      "text/plain": [
       "<AxesSubplot:xlabel='Location', ylabel='count'>"
      ]
     },
     "execution_count": 6,
     "metadata": {},
     "output_type": "execute_result"
    },
    {
     "data": {
      "image/png": "[encoded data removed]",
      "text/plain": [
       "<Figure size 864x432 with 1 Axes>"
      ]
     },
     "metadata": {
      "needs_background": "light"
     },
     "output_type": "display_data"
    }
   ],
   "source": [
    "plt.figure(figsize=(12,6))\n",
    "sns.countplot(x='Location', data=bankloan)"
   ]
  },
  {
   "cell_type": "markdown",
   "id": "a1d6f050",
   "metadata": {},
   "source": [
    "##### Explaination for the above graph: \n",
    "As we can see in the above graph,we have more applicants from Semi-Urban region compared to Rural and Urban area. And more Rural applicants than Urban."
   ]
  },
  {
   "cell_type": "code",
   "execution_count": 7,
   "id": "0e4694d2",
   "metadata": {},
   "outputs": [
    {
     "data": {
      "text/plain": [
       "<AxesSubplot:xlabel='Age', ylabel='Credit Score'>"
      ]
     },
     "execution_count": 7,
     "metadata": {},
     "output_type": "execute_result"
    },
    {
     "data": {
      "image/png": "[encoded data removed]",
      "text/plain": [
       "<Figure size 1080x504 with 1 Axes>"
      ]
     },
     "metadata": {
      "needs_background": "light"
     },
     "output_type": "display_data"
    }
   ],
   "source": [
    "plt.figure(figsize=(15,7))\n",
    "sns.lineplot(x=\"Age\", y=\"Credit Score\",data=bankloan)"
   ]
  },
  {
   "cell_type": "markdown",
   "id": "0cf3cb07",
   "metadata": {},
   "source": [
    "##### Explaination for the above graph:\n",
    "Compare to the young people elders have the good Credit Score in which young people are not returning the loans on time which is given by the bank."
   ]
  },
  {
   "cell_type": "code",
   "execution_count": 8,
   "id": "66f29895",
   "metadata": {},
   "outputs": [
    {
     "data": {
      "text/plain": [
       "<AxesSubplot:xlabel='Profession', ylabel='Loan Amount Request (USD)'>"
      ]
     },
     "execution_count": 8,
     "metadata": {},
     "output_type": "execute_result"
    },
    {
     "data": {
      "image/png": "[encoded data removed]",
      "text/plain": [
       "<Figure size 1080x504 with 1 Axes>"
      ]
     },
     "metadata": {
      "needs_background": "light"
     },
     "output_type": "display_data"
    }
   ],
   "source": [
    "plt.figure(figsize=(15,7))\n",
    "sns.boxplot(x=\"Profession\", y=\"Loan Amount Request (USD)\", data=bankloan,palette='rainbow')"
   ]
  },
  {
   "cell_type": "markdown",
   "id": "f11be19c",
   "metadata": {},
   "source": [
    "##### Explaination for the above graph: \n",
    "Working profession has more history of loan amount sactioned than other professions and the next postion is to commercial associate."
   ]
  },
  {
   "cell_type": "code",
   "execution_count": 9,
   "id": "cb1a952b",
   "metadata": {},
   "outputs": [
    {
     "data": {
      "text/plain": [
       "<AxesSubplot:xlabel='Age', ylabel='count'>"
      ]
     },
     "execution_count": 9,
     "metadata": {},
     "output_type": "execute_result"
    },
    {
     "data": {
      "image/png": "[encoded data removed]",
      "text/plain": [
       "<Figure size 864x432 with 1 Axes>"
      ]
     },
     "metadata": {
      "needs_background": "light"
     },
     "output_type": "display_data"
    }
   ],
   "source": [
    "plt.figure(figsize=(12,6))\n",
    "sns.countplot(x='Age', data=bankloan)"
   ]
  },
  {
   "cell_type": "markdown",
   "id": "0fc78279",
   "metadata": {},
   "source": [
    "##### Explaination for the above graph: \n",
    "Youths maintain bank balance more as compared to other age group loan applicants"
   ]
  },
  {
   "cell_type": "code",
   "execution_count": 10,
   "id": "68befee7",
   "metadata": {},
   "outputs": [
    {
     "data": {
      "text/plain": [
       "<AxesSubplot:xlabel='Location', ylabel='Loan Sanction Amount (USD)'>"
      ]
     },
     "execution_count": 10,
     "metadata": {},
     "output_type": "execute_result"
    },
    {
     "data": {
      "image/png": "[encoded data removed]",
      "text/plain": [
       "<Figure size 792x360 with 1 Axes>"
      ]
     },
     "metadata": {
      "needs_background": "light"
     },
     "output_type": "display_data"
    }
   ],
   "source": [
    "plt.figure(figsize=(11,5))\n",
    "sns.barplot(x='Location', y='Loan Sanction Amount (USD)',data=bankloan)"
   ]
  },
  {
   "cell_type": "markdown",
   "id": "dca9797b",
   "metadata": {},
   "source": [
    "##### Explaination for the above graph:\n",
    "Form the above bar graph we can say that the customers from Urban gets more loan amount sanctioned compared to Rural and Semi-urban customers."
   ]
  },
  {
   "cell_type": "markdown",
   "id": "956b322a",
   "metadata": {},
   "source": [
    "## Data Cleaning"
   ]
  },
  {
   "cell_type": "code",
   "execution_count": 11,
   "id": "9e986cf6",
   "metadata": {},
   "outputs": [],
   "source": [
    "bankloan.drop(['Customer ID','Name'],axis=1,inplace=True)"
   ]
  },
  {
   "cell_type": "code",
   "execution_count": 12,
   "id": "390e67b5",
   "metadata": {},
   "outputs": [
    {
     "data": {
      "text/plain": [
       "Gender                           53\n",
       "Age                               0\n",
       "Income (USD)                   4576\n",
       "Income Stability               1683\n",
       "Profession                        0\n",
       "Type of Employment             7270\n",
       "Location                          0\n",
       "Loan Amount Request (USD)         0\n",
       "Current Loan Expenses (USD)     172\n",
       "Expense Type 1                    0\n",
       "Expense Type 2                    0\n",
       "Dependents                     2493\n",
       "Credit Score                   1703\n",
       "No. of Defaults                   0\n",
       "Has Active Credit Card         1566\n",
       "Property ID                       0\n",
       "Property Age                   4850\n",
       "Property Type                     0\n",
       "Property Location               356\n",
       "Co-Applicant                      0\n",
       "Property Price                    0\n",
       "Loan Sanction Amount (USD)      340\n",
       "dtype: int64"
      ]
     },
     "execution_count": 12,
     "metadata": {},
     "output_type": "execute_result"
    }
   ],
   "source": [
    "bankloan.isnull().sum()"
   ]
  },
  {
   "cell_type": "code",
   "execution_count": 13,
   "id": "f73f20ca",
   "metadata": {},
   "outputs": [],
   "source": [
    "bankloan['Income (USD)'] = bankloan['Income (USD)'].fillna(bankloan['Income (USD)'].mean())\n",
    "bankloan['Current Loan Expenses (USD)'] = bankloan['Current Loan Expenses (USD)'].fillna(bankloan['Current Loan Expenses (USD)'].mean())\n",
    "bankloan['Dependents'] = bankloan['Dependents'].fillna(bankloan['Dependents'].mean())\n",
    "bankloan['Credit Score'] = bankloan['Credit Score'].fillna(bankloan['Credit Score'].mean())\n",
    "bankloan['Property Age'] = bankloan['Property Age'].fillna(bankloan['Property Age'].mean())\n",
    "bankloan['Loan Sanction Amount (USD)'] = bankloan['Loan Sanction Amount (USD)'].fillna(bankloan['Loan Sanction Amount (USD)'].mean())"
   ]
  },
  {
   "cell_type": "code",
   "execution_count": 14,
   "id": "716fdfa5",
   "metadata": {},
   "outputs": [
    {
     "data": {
      "text/plain": [
       "Gender                           53\n",
       "Age                               0\n",
       "Income (USD)                      0\n",
       "Income Stability               1683\n",
       "Profession                        0\n",
       "Type of Employment             7270\n",
       "Location                          0\n",
       "Loan Amount Request (USD)         0\n",
       "Current Loan Expenses (USD)       0\n",
       "Expense Type 1                    0\n",
       "Expense Type 2                    0\n",
       "Dependents                        0\n",
       "Credit Score                      0\n",
       "No. of Defaults                   0\n",
       "Has Active Credit Card         1566\n",
       "Property ID                       0\n",
       "Property Age                      0\n",
       "Property Type                     0\n",
       "Property Location               356\n",
       "Co-Applicant                      0\n",
       "Property Price                    0\n",
       "Loan Sanction Amount (USD)        0\n",
       "dtype: int64"
      ]
     },
     "execution_count": 14,
     "metadata": {},
     "output_type": "execute_result"
    }
   ],
   "source": [
    "bankloan.isnull().sum()"
   ]
  },
  {
   "cell_type": "code",
   "execution_count": 15,
   "id": "9705d81e",
   "metadata": {},
   "outputs": [
    {
     "data": {
      "text/plain": [
       "(30000, 22)"
      ]
     },
     "execution_count": 15,
     "metadata": {},
     "output_type": "execute_result"
    }
   ],
   "source": [
    "bankloan.shape"
   ]
  },
  {
   "cell_type": "code",
   "execution_count": 16,
   "id": "8522a315",
   "metadata": {},
   "outputs": [],
   "source": [
    "from sklearn.preprocessing import LabelEncoder  \n",
    "le = LabelEncoder()\n",
    "bankloan['Profession'] = le.fit_transform(bankloan['Profession'])"
   ]
  },
  {
   "cell_type": "code",
   "execution_count": 17,
   "id": "e0f8a68f",
   "metadata": {},
   "outputs": [],
   "source": [
    "from sklearn.preprocessing import LabelEncoder  \n",
    "le = LabelEncoder()\n",
    "bankloan['Location'] = le.fit_transform(bankloan['Location'])"
   ]
  },
  {
   "cell_type": "code",
   "execution_count": 18,
   "id": "d0115fff",
   "metadata": {},
   "outputs": [],
   "source": [
    "from sklearn.preprocessing import LabelEncoder  \n",
    "le = LabelEncoder()\n",
    "bankloan['Expense Type 1'] = le.fit_transform(bankloan['Expense Type 1'])\n",
    "bankloan['Expense Type 2'] = le.fit_transform(bankloan['Expense Type 2'])"
   ]
  },
  {
   "cell_type": "code",
   "execution_count": 19,
   "id": "fbbb08e1",
   "metadata": {},
   "outputs": [
    {
     "data": {
      "text/plain": [
       "1.0    10387\n",
       "0.0    10041\n",
       "2.0     9216\n",
       "Name: Property Location, dtype: int64"
      ]
     },
     "execution_count": 19,
     "metadata": {},
     "output_type": "execute_result"
    }
   ],
   "source": [
    "bankloan['Property Location'].replace('Rural',0,inplace=True)\n",
    "bankloan['Property Location'].replace('Semi-Urban',1,inplace=True)\n",
    "bankloan['Property Location'].replace('Urban',2,inplace=True) \n",
    "bankloan['Property Location'].value_counts()"
   ]
  },
  {
   "cell_type": "code",
   "execution_count": 20,
   "id": "aec71b8d",
   "metadata": {},
   "outputs": [
    {
     "data": {
      "text/plain": [
       "1.0    15053\n",
       "0.0    14894\n",
       "Name: Gender, dtype: int64"
      ]
     },
     "execution_count": 20,
     "metadata": {},
     "output_type": "execute_result"
    }
   ],
   "source": [
    "bankloan['Gender'].replace('M',1,inplace=True) \n",
    "bankloan['Gender'].replace('F',0,inplace=True)\n",
    "bankloan['Gender'].value_counts()"
   ]
  },
  {
   "cell_type": "code",
   "execution_count": 21,
   "id": "2210fbb3",
   "metadata": {},
   "outputs": [
    {
     "data": {
      "text/plain": [
       "1.0    25751\n",
       "0.0     2566\n",
       "Name: Income Stability, dtype: int64"
      ]
     },
     "execution_count": 21,
     "metadata": {},
     "output_type": "execute_result"
    }
   ],
   "source": [
    "bankloan['Income Stability'].replace('Low',1,inplace=True) \n",
    "bankloan['Income Stability'].replace('High',0,inplace=True) \n",
    "bankloan['Income Stability'].value_counts()"
   ]
  },
  {
   "cell_type": "code",
   "execution_count": 22,
   "id": "6b951488",
   "metadata": {},
   "outputs": [
    {
     "data": {
      "text/plain": [
       "1.0    9771\n",
       "0.0    9466\n",
       "2.0    9197\n",
       "Name: Has Active Credit Card, dtype: int64"
      ]
     },
     "execution_count": 22,
     "metadata": {},
     "output_type": "execute_result"
    }
   ],
   "source": [
    "bankloan['Has Active Credit Card'].replace('Inactive',0,inplace=True) \n",
    "bankloan['Has Active Credit Card'].replace('Active',1,inplace=True) \n",
    "bankloan['Has Active Credit Card'].replace('Unpossessed',2,inplace=True) \n",
    "bankloan['Has Active Credit Card'].value_counts()"
   ]
  },
  {
   "cell_type": "code",
   "execution_count": 23,
   "id": "b47e7db5",
   "metadata": {},
   "outputs": [
    {
     "data": {
      "text/plain": [
       "8.0     5578\n",
       "14.0    3736\n",
       "3.0     3230\n",
       "10.0    2495\n",
       "4.0     1606\n",
       "0.0     1379\n",
       "6.0     1307\n",
       "11.0     864\n",
       "16.0     579\n",
       "2.0      566\n",
       "12.0     342\n",
       "1.0      341\n",
       "9.0      162\n",
       "15.0     161\n",
       "17.0     149\n",
       "13.0      86\n",
       "7.0       77\n",
       "5.0       72\n",
       "Name: Type of Employment, dtype: int64"
      ]
     },
     "execution_count": 23,
     "metadata": {},
     "output_type": "execute_result"
    }
   ],
   "source": [
    "bankloan['Type of Employment'].replace('Accountants',0,inplace=True) \n",
    "bankloan['Type of Employment'].replace('Cleaning staff',1,inplace=True)\n",
    "bankloan['Type of Employment'].replace('Cooking staff',2,inplace=True)\n",
    "bankloan['Type of Employment'].replace('Core staff',3,inplace=True)\n",
    "bankloan['Type of Employment'].replace('Drivers',4,inplace=True)\n",
    "bankloan['Type of Employment'].replace('HR staff',5,inplace=True)\n",
    "bankloan['Type of Employment'].replace('High skill tech staff',6,inplace=True)\n",
    "bankloan['Type of Employment'].replace('IT staff',7,inplace=True)\n",
    "bankloan['Type of Employment'].replace('Laborers',8,inplace=True)\n",
    "bankloan['Type of Employment'].replace('Low-skill Laborers',9,inplace=True)\n",
    "bankloan['Type of Employment'].replace('Managers',10,inplace=True)\n",
    "bankloan['Type of Employment'].replace('Medicine staff',11,inplace=True)\n",
    "bankloan['Type of Employment'].replace('Private service staff',12,inplace=True)\n",
    "bankloan['Type of Employment'].replace('Realty agents',13,inplace=True)\n",
    "bankloan['Type of Employment'].replace('Sales staff',14,inplace=True)\n",
    "bankloan['Type of Employment'].replace('Secretaries',15,inplace=True)\n",
    "bankloan['Type of Employment'].replace('Security staff',16,inplace=True)\n",
    "bankloan['Type of Employment'].replace('Waiters/barmen staff',17,inplace=True)\n",
    "bankloan['Type of Employment'].value_counts()"
   ]
  },
  {
   "cell_type": "code",
   "execution_count": 24,
   "id": "77d895a1",
   "metadata": {},
   "outputs": [
    {
     "name": "stdout",
     "output_type": "stream",
     "text": [
      "<class 'pandas.core.frame.DataFrame'>\n",
      "RangeIndex: 30000 entries, 0 to 29999\n",
      "Data columns (total 22 columns):\n",
      " #   Column                       Non-Null Count  Dtype  \n",
      "---  ------                       --------------  -----  \n",
      " 0   Gender                       29947 non-null  float64\n",
      " 1   Age                          30000 non-null  int64  \n",
      " 2   Income (USD)                 30000 non-null  float64\n",
      " 3   Income Stability             28317 non-null  float64\n",
      " 4   Profession                   30000 non-null  int32  \n",
      " 5   Type of Employment           22730 non-null  float64\n",
      " 6   Location                     30000 non-null  int32  \n",
      " 7   Loan Amount Request (USD)    30000 non-null  float64\n",
      " 8   Current Loan Expenses (USD)  30000 non-null  float64\n",
      " 9   Expense Type 1               30000 non-null  int32  \n",
      " 10  Expense Type 2               30000 non-null  int32  \n",
      " 11  Dependents                   30000 non-null  float64\n",
      " 12  Credit Score                 30000 non-null  float64\n",
      " 13  No. of Defaults              30000 non-null  int64  \n",
      " 14  Has Active Credit Card       28434 non-null  float64\n",
      " 15  Property ID                  30000 non-null  int64  \n",
      " 16  Property Age                 30000 non-null  float64\n",
      " 17  Property Type                30000 non-null  int64  \n",
      " 18  Property Location            29644 non-null  float64\n",
      " 19  Co-Applicant                 30000 non-null  int64  \n",
      " 20  Property Price               30000 non-null  float64\n",
      " 21  Loan Sanction Amount (USD)   30000 non-null  float64\n",
      "dtypes: float64(13), int32(4), int64(5)\n",
      "memory usage: 4.6 MB\n"
     ]
    }
   ],
   "source": [
    "bankloan.info()"
   ]
  },
  {
   "cell_type": "code",
   "execution_count": 25,
   "id": "67dc46d7",
   "metadata": {},
   "outputs": [
    {
     "data": {
      "text/plain": [
       "Gender                           53\n",
       "Age                               0\n",
       "Income (USD)                      0\n",
       "Income Stability               1683\n",
       "Profession                        0\n",
       "Type of Employment             7270\n",
       "Location                          0\n",
       "Loan Amount Request (USD)         0\n",
       "Current Loan Expenses (USD)       0\n",
       "Expense Type 1                    0\n",
       "Expense Type 2                    0\n",
       "Dependents                        0\n",
       "Credit Score                      0\n",
       "No. of Defaults                   0\n",
       "Has Active Credit Card         1566\n",
       "Property ID                       0\n",
       "Property Age                      0\n",
       "Property Type                     0\n",
       "Property Location               356\n",
       "Co-Applicant                      0\n",
       "Property Price                    0\n",
       "Loan Sanction Amount (USD)        0\n",
       "dtype: int64"
      ]
     },
     "execution_count": 25,
     "metadata": {},
     "output_type": "execute_result"
    }
   ],
   "source": [
    "bankloan.isnull().sum()"
   ]
  },
  {
   "cell_type": "code",
   "execution_count": 26,
   "id": "42d39700",
   "metadata": {},
   "outputs": [],
   "source": [
    "bankloan = bankloan.fillna(value=0)"
   ]
  },
  {
   "cell_type": "code",
   "execution_count": 27,
   "id": "9640ff36",
   "metadata": {},
   "outputs": [
    {
     "data": {
      "text/plain": [
       "Gender                         0\n",
       "Age                            0\n",
       "Income (USD)                   0\n",
       "Income Stability               0\n",
       "Profession                     0\n",
       "Type of Employment             0\n",
       "Location                       0\n",
       "Loan Amount Request (USD)      0\n",
       "Current Loan Expenses (USD)    0\n",
       "Expense Type 1                 0\n",
       "Expense Type 2                 0\n",
       "Dependents                     0\n",
       "Credit Score                   0\n",
       "No. of Defaults                0\n",
       "Has Active Credit Card         0\n",
       "Property ID                    0\n",
       "Property Age                   0\n",
       "Property Type                  0\n",
       "Property Location              0\n",
       "Co-Applicant                   0\n",
       "Property Price                 0\n",
       "Loan Sanction Amount (USD)     0\n",
       "dtype: int64"
      ]
     },
     "execution_count": 27,
     "metadata": {},
     "output_type": "execute_result"
    }
   ],
   "source": [
    "bankloan.isnull().sum()"
   ]
  },
  {
   "cell_type": "code",
   "execution_count": 28,
   "id": "23bae1c5",
   "metadata": {},
   "outputs": [
    {
     "data": {
      "text/plain": [
       "<AxesSubplot:xlabel='Has Active Credit Card', ylabel='Density'>"
      ]
     },
     "execution_count": 28,
     "metadata": {},
     "output_type": "execute_result"
    },
    {
     "data": {
      "image/png": "[encoded data removed]",
      "text/plain": [
       "<Figure size 720x432 with 1 Axes>"
      ]
     },
     "metadata": {
      "needs_background": "light"
     },
     "output_type": "display_data"
    }
   ],
   "source": [
    "plt.figure(figsize=(10,6))\n",
    "sns.distplot(bankloan['Has Active Credit Card'])"
   ]
  },
  {
   "cell_type": "markdown",
   "id": "de30e6db",
   "metadata": {},
   "source": [
    "##### Explaination for the above graph: \n",
    "From the above graph we can conclude that the inactive(0) Credit card is more than the acctive(1) and Unpossessed(2)."
   ]
  },
  {
   "cell_type": "markdown",
   "id": "5a98cd28",
   "metadata": {},
   "source": [
    "## Model Importing, Training and Testing"
   ]
  },
  {
   "cell_type": "code",
   "execution_count": 29,
   "id": "9ead889b",
   "metadata": {},
   "outputs": [],
   "source": [
    "y = bankloan['Loan Sanction Amount (USD)']"
   ]
  },
  {
   "cell_type": "code",
   "execution_count": 30,
   "id": "38ccaff4",
   "metadata": {},
   "outputs": [],
   "source": [
    "X = bankloan[['Gender','Age','Income (USD)','Profession','Location','Loan Amount Request (USD)','Expense Type 1','Expense Type 2','Dependents','Credit Score','No. of Defaults','Property ID','Property Age','Property Type','Property Location','Co-Applicant','Property Price','Has Active Credit Card']]"
   ]
  },
  {
   "cell_type": "code",
   "execution_count": 31,
   "id": "c2b0a511",
   "metadata": {},
   "outputs": [],
   "source": [
    "from sklearn.model_selection import train_test_split\n",
    "X_train, X_test, y_train, y_test = train_test_split(X, y, test_size=0.3, random_state=101)"
   ]
  },
  {
   "cell_type": "markdown",
   "id": "08750200",
   "metadata": {},
   "source": [
    "### Linear Regression"
   ]
  },
  {
   "cell_type": "code",
   "execution_count": 32,
   "id": "9e6d4760",
   "metadata": {},
   "outputs": [
    {
     "data": {
      "text/plain": [
       "LinearRegression()"
      ]
     },
     "execution_count": 32,
     "metadata": {},
     "output_type": "execute_result"
    }
   ],
   "source": [
    "from sklearn.linear_model import LinearRegression\n",
    "lm = LinearRegression()\n",
    "lm.fit(X_train,y_train)"
   ]
  },
  {
   "cell_type": "code",
   "execution_count": 33,
   "id": "a6ca9047",
   "metadata": {},
   "outputs": [
    {
     "name": "stdout",
     "output_type": "stream",
     "text": [
      "Coefficients: \n",
      " [-3.32672059e+02 -2.83423304e+01  3.06667171e+00 -1.28374070e+02\n",
      "  1.65371397e+02  5.68900522e-01  3.54760335e+02  3.08370981e+02\n",
      "  4.77789027e+00  1.65292038e+02 -6.91900215e+02  3.14388753e-01\n",
      " -3.06159682e+00  1.01980188e+02  1.05739222e+02 -7.21326525e+00\n",
      " -1.35904104e-02  3.06308074e+02]\n"
     ]
    }
   ],
   "source": [
    "print('Coefficients: \\n', lm.coef_)"
   ]
  },
  {
   "cell_type": "code",
   "execution_count": 34,
   "id": "79f9fbb0",
   "metadata": {},
   "outputs": [
    {
     "data": {
      "text/plain": [
       "array([ 62507.80764229, 116251.64330625, 113331.83534033, ...,\n",
       "         5146.78477892,  54017.13026718,  14485.18669727])"
      ]
     },
     "execution_count": 34,
     "metadata": {},
     "output_type": "execute_result"
    }
   ],
   "source": [
    "predictions = lm.predict( X_test)\n",
    "predictions"
   ]
  },
  {
   "cell_type": "code",
   "execution_count": 35,
   "id": "6645c8ad",
   "metadata": {},
   "outputs": [
    {
     "data": {
      "text/plain": [
       "0.5667823494150277"
      ]
     },
     "execution_count": 35,
     "metadata": {},
     "output_type": "execute_result"
    }
   ],
   "source": [
    "from sklearn.metrics import r2_score\n",
    "r2_score(y_test, predictions)"
   ]
  },
  {
   "cell_type": "markdown",
   "id": "b49e1c0e",
   "metadata": {},
   "source": [
    "### Decision Tree Regression"
   ]
  },
  {
   "cell_type": "code",
   "execution_count": 36,
   "id": "a4c9cce2",
   "metadata": {},
   "outputs": [
    {
     "name": "stdout",
     "output_type": "stream",
     "text": [
      "0.5124\n"
     ]
    }
   ],
   "source": [
    "from sklearn import tree\n",
    "clf = tree.DecisionTreeRegressor()\n",
    "clf.fit(X_train, y_train)\n",
    "pred2 = clf.predict(X_test)\n",
    "accuracy = r2_score(y_test,pred2)\n",
    "print(np.round(accuracy,decimals=4))"
   ]
  },
  {
   "cell_type": "markdown",
   "id": "7c566d3c",
   "metadata": {},
   "source": [
    "### Random Forest Regression"
   ]
  },
  {
   "cell_type": "code",
   "execution_count": 37,
   "id": "839ed955",
   "metadata": {},
   "outputs": [
    {
     "name": "stdout",
     "output_type": "stream",
     "text": [
      "0.7423\n"
     ]
    }
   ],
   "source": [
    "from sklearn.ensemble import RandomForestRegressor\n",
    "rfr = RandomForestRegressor()\n",
    "rfr.fit(X_train,y_train)\n",
    "pred_rf = rfr.predict(X_test)\n",
    "accuracy = r2_score(y_test,pred_rf)\n",
    "print(np.round(accuracy,decimals=4))"
   ]
  },
  {
   "cell_type": "markdown",
   "id": "3795aedc",
   "metadata": {},
   "source": [
    "### Gradient Boosting Regression"
   ]
  },
  {
   "cell_type": "code",
   "execution_count": 38,
   "id": "4bbd6d4e",
   "metadata": {},
   "outputs": [
    {
     "data": {
      "text/plain": [
       "0.7370561330383769"
      ]
     },
     "execution_count": 38,
     "metadata": {},
     "output_type": "execute_result"
    }
   ],
   "source": [
    "from sklearn.ensemble import GradientBoostingRegressor\n",
    "from sklearn.model_selection import train_test_split\n",
    "reg = GradientBoostingRegressor(random_state=0)\n",
    "reg.fit(X_train, y_train)\n",
    "GradientBoostingRegressor(random_state=0)\n",
    "reg.predict(X_test[1:2])\n",
    "reg.score(X_test, y_test)"
   ]
  },
  {
   "cell_type": "markdown",
   "id": "c99aaee0",
   "metadata": {},
   "source": [
    "### MLP Regression "
   ]
  },
  {
   "cell_type": "code",
   "execution_count": 39,
   "id": "8d37f48e",
   "metadata": {},
   "outputs": [
    {
     "data": {
      "text/plain": [
       "0.5102926848102967"
      ]
     },
     "execution_count": 39,
     "metadata": {},
     "output_type": "execute_result"
    }
   ],
   "source": [
    "from sklearn.neural_network import MLPRegressor\n",
    "from sklearn.datasets import make_regression\n",
    "regr = MLPRegressor(random_state=1, max_iter=500).fit(X_train, y_train)\n",
    "regr.score(X_test, y_test)"
   ]
  },
  {
   "cell_type": "markdown",
   "id": "3a3b430d",
   "metadata": {},
   "source": [
    "## Thank You"
   ]
  }
 ],
 "metadata": {
  "kernelspec": {
   "display_name": "Python 3",
   "language": "python",
   "name": "python3"
  },
  "language_info": {
   "codemirror_mode": {
    "name": "ipython",
    "version": 3
   },
   "file_extension": ".py",
   "mimetype": "text/x-python",
   "name": "python",
   "nbconvert_exporter": "python",
   "pygments_lexer": "ipython3",
   "version": "3.8.8"
  }
 },
 "nbformat": 4,
 "nbformat_minor": 5
}
